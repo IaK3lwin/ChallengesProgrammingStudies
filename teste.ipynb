{
 "cells": [
  {
   "cell_type": "markdown",
   "id": "4d543425",
   "metadata": {},
   "source": [
    "# Sabe responder essas perguntas?\n",
    "\n",
    "## O que é escopo?"
   ]
  }
 ],
 "metadata": {
  "language_info": {
   "name": "python"
  }
 },
 "nbformat": 4,
 "nbformat_minor": 5
}
