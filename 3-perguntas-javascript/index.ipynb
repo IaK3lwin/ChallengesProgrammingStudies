{
 "cells": [
  {
   "cell_type": "markdown",
   "id": "4d543425",
   "metadata": {},
   "source": [
    "# Sabe responder essas perguntas?\n",
    "\n",
    "## O que é escopo?\n",
    "\n",
    "-- Quando vi a primeira pergunta, achei bem fácil! Bom realmente não é algo\n",
    "dificil. A forma como responde foi algo do tipo: \"bloco de código, que define quais variáveis são visiveis ou não.\", não está errado, mas não é a melhor definição (eu acho!)\n",
    "\n",
    "\"Determina um acesso a visibilidade de uma variável, Então o escopo define onde sua variável vai está disponível... o alcance dela!\" - Filipe / artigo que ele usou para criar o vídeo\n",
    "\n",
    "Ou seja, é como uma espécie de condominio, o espaço livre, a recepção e tals seriam o \"escopo global\" onde qualquer um que estiver lá poderá ser visto, e as casas seriam as funções, classes etc... que as pessoas dentro da casa só poderam ser vistas ou acessadas pelas pessoas que estão dentro da casa. \n",
    "\n",
    "\"Para você não endoidar enquanto programa no JS você não vai querer que todas variáveis tenham escopo irrestrito, ou seja você não vai querer que qualquer parte do seu código consiga acessar variáveis de qualquer parte do código, porque isso vai te dar uma rasteira linda! com \"**Namespace Collision**\" - Filipe Deschamps\n",
    "\n"
   ]
  }
 ],
 "metadata": {
  "language_info": {
   "name": "python"
  }
 },
 "nbformat": 4,
 "nbformat_minor": 5
}
