{
 "cells": [
  {
   "cell_type": "markdown",
   "id": "4d543425",
   "metadata": {},
   "source": [
    "# Sabe responder essas perguntas?\n",
    "\n",
    "## 1.0. O que é escopo?\n",
    "\n",
    "-- Quando vi a primeira pergunta, achei bem fácil! Bom realmente não é algo\n",
    "dificil. A forma como responde foi algo do tipo: \"bloco de código, que define quais variáveis são visiveis ou não.\", não está errado, mas não é a melhor definição (eu acho!)\n",
    "\n",
    "\"Determina um acesso a visibilidade de uma variável, Então o escopo define onde sua variável vai está disponível... o alcance dela!\" - Filipe / artigo que ele usou para criar o vídeo\n",
    "\n",
    "Ou seja, é como uma espécie de condominio, o espaço livre, a recepção e tals seriam o \"escopo global\" onde qualquer um que estiver lá poderá ser visto, e as casas seriam as funções, classes etc... que as pessoas dentro da casa só poderam ser vistas ou acessadas pelas pessoas que estão dentro da casa. \n",
    "\n",
    "\"Para você não endoidar enquanto programa no JS você não vai querer que todas variáveis tenham escopo irrestrito, ou seja você não vai querer que qualquer parte do seu código consiga acessar variáveis de qualquer parte do código, porque isso vai te dar uma rasteira linda! com \"**Namespace Collision**\" - Filipe Deschamps\n",
    "\n"
   ]
  },
  {
   "cell_type": "code",
   "execution_count": null,
   "id": "a5ae61cc",
   "metadata": {
    "vscode": {
     "languageId": "javascript"
    }
   },
   "outputs": [],
   "source": [
    "var name // variável declarada no escopo global\n",
    "console.log(name) // console.log(name) imprimi variável que está no mesmo escopo\n"
   ]
  },
  {
   "cell_type": "markdown",
   "id": "0ec8c64e",
   "metadata": {},
   "source": [
    "## 1.1. Scope Chain\n",
    "\n",
    " \"Define como o acesso as variáveis são propagadas nessa linguagem\" - Filipe Deschamps\n",
    "\n",
    " -- Bom, nunca nem tinha ouvido falar sobre, mas confesso que fiquei bem empolgado com esse\n",
    " conceito. Mas ele continua:\n",
    "\n",
    " \"Quando você declara variáveis num escopo, todos os escopos internos conseguem acessar esses valores,\n",
    " Independente da profundidade interna.\"\n",
    "\n",
    " ### 1.2. Uma analogia horrível \n",
    "\n",
    "Voltando ao condominio, vamos dizer que cada cômodo seja uma função! Você está no primeiro andar. E deseja pegar uma ferramenta para concertar algo, primeiro você olha se tem essa ferramenta. Se não tiver, sobe ao segundo andar e pergunta a outra pessoa do cômodo superior se ela tem a ferramenta.... até encontra-lo e voltar para seu aposento. O **escope Chain** funciona parecido com isso. \n",
    "\n",
    " \n",
    "![alt text](https://res.cloudinary.com/dyvfesbzn/image/upload/v1761598095/analogia_1_z8isij.jpg)"
   ]
  },
  {
   "cell_type": "markdown",
   "id": "15aa2d6d",
   "metadata": {},
   "source": [
    "\"a forma forma mais certa de você visualizar isso é o escopo interno perguntando o seguinte: \n",
    "\n",
    "-- Ei! essa variável existe no meu escopo local? se sim, eu vou uso ela, se não eu vou procurar no escopo acima  até chega no escopo global\" - Filipe Deschamps\n"
   ]
  },
  {
   "cell_type": "code",
   "execution_count": null,
   "id": "31c0a3df",
   "metadata": {
    "vscode": {
     "languageId": "javascript"
    }
   },
   "outputs": [],
   "source": [
    "var name = \"escope global\" // name existe no escopo global\n",
    "\n",
    "function returnName() { // SCOPE CHAIN  ^\n",
    "    //                                  |\n",
    "    return name // função retorna variável nome. que não existe no escopo da função, mas existe no \n",
    "    //global, logo o retorno será o valor da variável com escopo global\n",
    "}\n",
    "\n",
    "returnName()\n",
    "\n",
    "//output: escope global"
   ]
  },
  {
   "cell_type": "markdown",
   "id": "c4f04247",
   "metadata": {},
   "source": [
    "E o Filipe, também explica que essa busca pelas variáveis em diversos escopos só termina quando chega ao escopo global ou encontra a variável, object e etc... Caso não encontre ao chega no escopo global, o programa retorna um erro."
   ]
  },
  {
   "cell_type": "code",
   "execution_count": null,
   "id": "f96c0bf4",
   "metadata": {
    "vscode": {
     "languageId": "javascript"
    }
   },
   "outputs": [],
   "source": [
    "var escope = \"global\"\n",
    "\n",
    "function ShowScope() {\n",
    "  return escope\n",
    "}\n",
    "\n",
    "function ShowRealScope() {\n",
    "  var escope = \"local function\" // OPA! achei, vou retorna \"local function\" !\n",
    "// ^ PROCURA ACIMA\n",
    "// |\n",
    "  return escope // preciso retorna esse treco\n",
    "}\n",
    "\n",
    "/**\n",
    " * \n",
    " * ao executar o ShowRealScope ele irá encontrar a variável escope no escopo local, se existir ele\n",
    " *  para o programa por aí, se não ele continua a busca até encontrar ou não, caso não encontre ele retorna \n",
    " * um erro.\n",
    " * \n",
    " */\n",
    "console.log(ShowRealScope())\n",
    "// output: \"local function\""
   ]
  },
  {
   "cell_type": "markdown",
   "id": "95791321",
   "metadata": {},
   "source": [
    "### 1.3. Tipos de escopo\n",
    "\n",
    "- Global - raiz do programa, é o nível mais alto do sistema.\n",
    "- Local - diz respeito ao bloco de uma estrutura como if, else, for, while etc...\n",
    "- ??? -> "
   ]
  },
  {
   "cell_type": "markdown",
   "id": "37cd26bd",
   "metadata": {},
   "source": [
    "## 2.0. Diferença entre let, var e const\n",
    "\n"
   ]
  }
 ],
 "metadata": {
  "language_info": {
   "name": "python"
  }
 },
 "nbformat": 4,
 "nbformat_minor": 5
}
