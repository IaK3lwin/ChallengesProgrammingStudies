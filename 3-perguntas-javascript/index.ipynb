{
 "cells": [
  {
   "cell_type": "markdown",
   "id": "4d543425",
   "metadata": {},
   "source": [
    "# Sabe responder essas perguntas?\n",
    "\n",
    "## 1.0. O que é escopo?\n",
    "\n",
    "-- Quando vi a primeira pergunta, achei bem fácil! Bom realmente não é algo\n",
    "dificil. A forma como responde foi algo do tipo: \"bloco de código, que define quais variáveis são visiveis ou não.\", não está errado, mas não é a melhor definição (eu acho!)\n",
    "\n",
    "\"Determina um acesso a visibilidade de uma variável, Então o escopo define onde sua variável vai está disponível... o alcance dela!\" - Filipe / artigo que ele usou para criar o vídeo\n",
    "\n",
    "Ou seja, é como uma espécie de condominio, o espaço livre, a recepção e tals seriam o \"escopo global\" onde qualquer um que estiver lá poderá ser visto, e as casas seriam as funções, classes etc... que as pessoas dentro da casa só poderam ser vistas ou acessadas pelas pessoas que estão dentro da casa. \n",
    "\n",
    "\"Para você não endoidar enquanto programa no JS você não vai querer que todas variáveis tenham escopo irrestrito, ou seja você não vai querer que qualquer parte do seu código consiga acessar variáveis de qualquer parte do código, porque isso vai te dar uma rasteira linda! com \"**Namespace Collision**\" - Filipe Deschamps\n",
    "\n"
   ]
  },
  {
   "cell_type": "code",
   "execution_count": null,
   "id": "a5ae61cc",
   "metadata": {
    "vscode": {
     "languageId": "javascript"
    }
   },
   "outputs": [],
   "source": [
    "var name // variável declarada no escopo global\n",
    "console.log(name) // console.log(name) imprimi variável que está no mesmo escopo\n"
   ]
  },
  {
   "cell_type": "markdown",
   "id": "0ec8c64e",
   "metadata": {},
   "source": [
    "## 1.1. Scope Chain\n",
    "\n",
    " \"Define como o acesso as variáveis são propagadas nessa linguagem\" - Filipe Deschamps\n",
    "\n",
    " -- Bom, nunca nem tinha ouvido falar sobre, mas confesso que fiquei bem empolgado com esse\n",
    " conceito. Mas ele continua:\n",
    "\n",
    " \"Quando você declara variáveis num escopo, todos os escopos internos conseguem acessar esses valores,\n",
    " Independente da profundidade interna.\"\n",
    "\n",
    " ### 1.2. Uma analogia horrível \n",
    "\n",
    "Voltando ao condominio, vamos dizer que cada cômodo seja uma função! Você está no primeiro andar. E deseja pegar uma ferramenta para concertar algo, primeiro você olha se tem essa ferramenta. Se não tiver, sobe ao segundo andar e pergunta a outra pessoa do cômodo superior se ela tem a ferramenta.... até encontra-lo e voltar para seu aposento. O **escope Chain** funciona parecido com isso. \n",
    "\n",
    " \n",
    "![alt text](https://res.cloudinary.com/dyvfesbzn/image/upload/v1761598095/analogia_1_z8isij.jpg)"
   ]
  },
  {
   "cell_type": "markdown",
   "id": "15aa2d6d",
   "metadata": {},
   "source": [
    "\"a forma forma mais certa de você visualizar isso é o escopo interno perguntando o seguinte: \n",
    "\n",
    "-- Ei! essa variável existe no meu escopo local? se sim, eu vou uso ela, se não eu vou procurar no escopo acima  até chega no escopo global\" - Filipe Deschamps\n"
   ]
  },
  {
   "cell_type": "code",
   "execution_count": null,
   "id": "31c0a3df",
   "metadata": {
    "vscode": {
     "languageId": "javascript"
    }
   },
   "outputs": [],
   "source": [
    "var name = \"escope global\" // name existe no escopo global\n",
    "\n",
    "function returnName() { // SCOPE CHAIN  ^\n",
    "    //                                  |\n",
    "    return name // função retorna variável nome. que não existe no escopo da função, mas existe no \n",
    "    //global, logo o retorno será o valor da variável com escopo global\n",
    "}\n",
    "\n",
    "returnName()\n",
    "\n",
    "//output: escope global"
   ]
  },
  {
   "cell_type": "markdown",
   "id": "c4f04247",
   "metadata": {},
   "source": [
    "E o Filipe, também explica que essa busca pelas variáveis em diversos escopos só termina quando chega ao escopo global ou encontra a variável, object e etc... Caso não encontre ao chega no escopo global, o programa retorna um erro."
   ]
  },
  {
   "cell_type": "code",
   "execution_count": null,
   "id": "f96c0bf4",
   "metadata": {
    "vscode": {
     "languageId": "javascript"
    }
   },
   "outputs": [],
   "source": [
    "var escope = \"global\"\n",
    "\n",
    "function ShowScope() {\n",
    "  return escope\n",
    "}\n",
    "\n",
    "function ShowRealScope() {\n",
    "  var escope = \"local function\" // OPA! achei, vou retorna \"local function\" !\n",
    "// ^ PROCURA ACIMA\n",
    "// |\n",
    "  return escope // preciso retorna esse treco\n",
    "}\n",
    "\n",
    "/**\n",
    " * \n",
    " * ao executar o ShowRealScope ele irá encontrar a variável escope no escopo local, se existir ele\n",
    " *  para o programa por aí, se não ele continua a busca até encontrar ou não, caso não encontre ele retorna \n",
    " * um erro.\n",
    " * \n",
    " */\n",
    "console.log(ShowRealScope())\n",
    "// output: \"local function\""
   ]
  },
  {
   "cell_type": "markdown",
   "id": "95791321",
   "metadata": {},
   "source": [
    "### 1.3. Tipos de escopo\n",
    "\n",
    "- Global - raiz do programa, é o nível mais alto do sistema.\n",
    "- Local - diz respeito ao bloco de uma estrutura como if, else, for, while etc...\n",
    "- ??? -> "
   ]
  },
  {
   "cell_type": "markdown",
   "id": "37cd26bd",
   "metadata": {},
   "source": [
    "## 2.0. Diferença entre let, var e const\n",
    "\n",
    "Bom, eu realmente não fazia ideia da diferença. Na dúvida eu sempre usei let, Mas agora isso muda hoje!\n",
    "\n",
    "\"Para você passar do nível iniciante nesse item, você precisa prestar atenção em três coisas quando o assunto é declaração de variáveis em JS:\" \n",
    "- 1_Escopo\n",
    "- 2_ Redeclaração\n",
    "- 3_ Hoisting \n",
    "\n",
    "### 2.1. O que delimita a declaração var??\n",
    "\n",
    "  \"O que delimita o escopo de uma variável tipo var é uma função! A variável ela não consegue estrapolar\n",
    "o limite importo por uma função!\" - Filipe Deschamps\n"
   ]
  },
  {
   "cell_type": "code",
   "execution_count": null,
   "id": "516dd882",
   "metadata": {
    "vscode": {
     "languageId": "javascript"
    }
   },
   "outputs": [],
   "source": [
    "// 2.0 fim do escopo global, não encontrou a variável, retorna como undefined então\n",
    "function showName() {\n",
    "    var name = \"Ian Kelwin\" // var é delimitado pelo escopo local da função, ou seja só existe dentro\n",
    "    // da função\n",
    "    return name\n",
    "} \n",
    "\n",
    "console.log(name) // 1.0 busca pela variável name nos espobos acima\n",
    "\n",
    "//3.0 output: undefined! "
   ]
  },
  {
   "cell_type": "code",
   "execution_count": null,
   "id": "c182ebea",
   "metadata": {
    "vscode": {
     "languageId": "javascript"
    }
   },
   "outputs": [],
   "source": [
    "var name = \"Ian GLOBAL\"// 4.0 ENCONTROU! retorno o valor dela\n",
    "\n",
    "function returnName() {\n",
    "    var name = \"Ian LOCAL\" //3.0 só existe no corpo da função, ignora!\n",
    "    return name\n",
    "}\n",
    "\n",
    "console.log(name) // 2.0 Procurar pela variável\n",
    "\n",
    "// 5.0 output: Ian GLOBAL"
   ]
  },
  {
   "cell_type": "markdown",
   "id": "c4dbe8b2",
   "metadata": {},
   "source": [
    "### 2.2. Detalhes importântes\n",
    "\n",
    "Uma coisa que percebi foi, a declaração de variável **tipo var** aceita algo como isso:\n",
    "#### 2.2.1 Redeclaração\n"
   ]
  },
  {
   "cell_type": "code",
   "execution_count": null,
   "id": "bab17dca",
   "metadata": {
    "vscode": {
     "languageId": "javascript"
    }
   },
   "outputs": [],
   "source": [
    "var name = \"qualquer coisa\"\n",
    "var name = \"ian kelwin\"\n",
    "\n",
    "// output: ian kelwin"
   ]
  },
  {
   "cell_type": "markdown",
   "id": "d044035c",
   "metadata": {},
   "source": [
    "E isso não retorna erro. Automaticamente por já ter usado bastante o JS fisguei na hora que com declarações do tipo **let** isso não é possível! Pelo que me lembre (se estiver errado irei tirar isso :D)\n",
    "\n",
    "E agora é o momento de me sentir burro! Se liga nesse código desgraçado:\n"
   ]
  },
  {
   "cell_type": "code",
   "execution_count": null,
   "id": "63bfc6d1",
   "metadata": {
    "vscode": {
     "languageId": "javascript"
    }
   },
   "outputs": [],
   "source": [
    "var name = \"qualquer coisa\"\n",
    "\n",
    "function ShowName() {\n",
    "    name = \"Maria\"\n",
    "    return name\n",
    "}\n",
    "\n",
    "ShowName()\n",
    "console.log(name)"
   ]
  },
  {
   "cell_type": "markdown",
   "id": "727160ff",
   "metadata": {},
   "source": [
    "\n",
    "Vendo isso, qual você achar que será o saída? Bom eu errei essa! Pensei\n",
    "que inicialmente ele iria tentar encontrar a variável name, mas ela não iria existir no escopo\n",
    "local. O que se prova real. Logo automaticamente irá dá erro. Certo? OBVIAMENTE QUE NÂO. Provavelmente se alguém estiver lendo isso deve está pensando que sou burro, e o \"Escope Chain\" que você falou **agora pouco?** \n",
    "De fato! ele irá procura nos próximos escopos."
   ]
  },
  {
   "cell_type": "code",
   "execution_count": null,
   "id": "4c9cda13",
   "metadata": {
    "vscode": {
     "languageId": "javascript"
    }
   },
   "outputs": [],
   "source": [
    "var name = \"qualquer coisa\" // 1.0 declaro a variável\n",
    "\n",
    "function ShowName() { //2.0 criar a função\n",
    "    name = \"Maria\" // 4.0 vou atrás da variável name(está declarada no escopo global)\n",
    "    //e irei reatribuir um valor nela\n",
    "    return name // 5.0 retorno ela\n",
    "}\n",
    "\n",
    "ShowName() // 3.0 executa a função\n",
    "console.log(name) // 6.0 imprimo ela\n",
    "\n",
    "// output: \"Maria\""
   ]
  },
  {
   "cell_type": "markdown",
   "id": "157bb46f",
   "metadata": {},
   "source": [
    "As vezes realmente esqueço em pensar no fluxo de código como um computador, e acabo errando coisinhas bem idiota, mas\n",
    "espero melhorar nesse aspecto. Mas aparentimente eu não fui o único que sofreu com esse problema.\n",
    "Segundo Filipe, por conta desse tipo de problema de redeclaração. Gerou uma onda de sempre que possível\n",
    "usar o tipo de declração **CONST**\n"
   ]
  },
  {
   "cell_type": "markdown",
   "id": "3fb3b180",
   "metadata": {},
   "source": [
    "#### 2.2.2. Hoisting\n",
    "\n",
    "Antes de começar a falar sobre **Hoisting**, Eu estou impressionado! usei JS por muito tempo sem ter noção desse conhecimento! E tipo, ele tava lá de forma gratuita com uma didática impecável. Mesmo assim eu não fazia a mínima ideia sobre esssas coisas. "
   ]
  },
  {
   "cell_type": "markdown",
   "id": "447d2374",
   "metadata": {},
   "source": [
    "\"A palavra em ingçlês Hoist significa em português equipamentos que servem pra elevar as coisas,\n",
    "e Hoisting é justamente o ato de elevar essas coisas, Içar para um nível superior. E se eu te falar que o \n",
    "compilador JS antes de executar seu código faz isso com todas variáveis do tipo \"**var**\" e também todas as **declarações de funções**?\" - Filipe Deschamps"
   ]
  },
  {
   "cell_type": "code",
   "execution_count": null,
   "id": "9f203582",
   "metadata": {
    "vscode": {
     "languageId": "javascript"
    }
   },
   "outputs": [],
   "source": [
    "//ou seja\n",
    "\n",
    "// exemplo 1\n",
    "console.log(name)\n",
    "var name = \"ian\""
   ]
  },
  {
   "cell_type": "markdown",
   "id": "e33dc932",
   "metadata": {},
   "source": [
    "O interpretador JS faz o Hoinsting das variáveis antes de executar o código:"
   ]
  },
  {
   "cell_type": "code",
   "execution_count": null,
   "id": "2d140ea1",
   "metadata": {
    "vscode": {
     "languageId": "javascript"
    }
   },
   "outputs": [],
   "source": [
    "//real código do exemplo 1\n",
    "var name // eleva a DECLARAÇÃO da variável name para o topo\n",
    "\n",
    "console.log(name) \n",
    "name = \"ian\" // e a atribuição permanace no mesmo local"
   ]
  },
  {
   "cell_type": "markdown",
   "id": "3ada246a",
   "metadata": {},
   "source": [
    "O que significa que no final você está executando o código de **real código exemplo**\n",
    "\n",
    "#### Dica do Filipe Deschamps\n",
    "  Sempre declare variáveis no topo do código! (a não ser que você esteja usando o let e o const)\n",
    "\n"
   ]
  },
  {
   "cell_type": "code",
   "execution_count": null,
   "id": "49a98730",
   "metadata": {
    "vscode": {
     "languageId": "javascript"
    }
   },
   "outputs": [],
   "source": [
    "var name = \"Ian Kelwin\"\n",
    "\n",
    "if (1 + 1 === 2) {\n",
    "    var name = \"Andrezza Kelwin\"\n",
    "}\n",
    "\n",
    "console.log(name)\n"
   ]
  }
 ],
 "metadata": {
  "language_info": {
   "name": "python"
  }
 },
 "nbformat": 4,
 "nbformat_minor": 5
}
