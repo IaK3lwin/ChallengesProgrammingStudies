{
 "cells": [
  {
   "cell_type": "markdown",
   "id": "4d543425",
   "metadata": {},
   "source": [
    "# Sabe responder essas perguntas?\n",
    "\n",
    "## O que é escopo?\n",
    "\n",
    "-- Quando vi a primeira pergunta, achei bem fácil! Bom realmente não é algo\n",
    "dificil. A forma como responde foi algo do tipo: \"bloco de código, que define quais variáveis são visiveis ou não.\", não está errado, mas não é a melhor definição (eu acho!)\n",
    "\n",
    "\"Determina um acesso a visibilidade de uma variável, Então o escopo define onde sua variável vai está disponível... o alcance dela!\" - Filipe / artigo que ele usou para criar o vídeo\n",
    "\n",
    "Ou seja, é como uma espécie de condominio, o espaço livre, a recepção e tals seriam o \"escopo global\" onde qualquer um que estiver lá poderá ser visto, e as casas seriam as funções, classes etc... que as pessoas dentro da casa só poderam ser vistas ou acessadas pelas pessoas que estão dentro da casa. \n",
    "\n",
    "\"Para você não endoidar enquanto programa no JS você não vai querer que todas variáveis tenham escopo irrestrito, ou seja você não vai querer que qualquer parte do seu código consiga acessar variáveis de qualquer parte do código, porque isso vai te dar uma rasteira linda! com \"**Namespace Collision**\" - Filipe Deschamps\n",
    "\n"
   ]
  },
  {
   "cell_type": "code",
   "execution_count": null,
   "id": "a5ae61cc",
   "metadata": {
    "vscode": {
     "languageId": "javascript"
    }
   },
   "outputs": [],
   "source": [
    "var name // variável declarada no escopo global\n",
    "console.log(name) // console.log(name) imprimi variável que está no mesmo escopo\n"
   ]
  },
  {
   "cell_type": "markdown",
   "id": "0ec8c64e",
   "metadata": {},
   "source": [
    "##  Scope Chain\n",
    "\n",
    " \"Define como o acesso as variáveis são propagadas nessa linguagem\" - Filipe Deschamps\n",
    "\n",
    " -- Bom, nunca nem tinha ouvido falar sobre, mas confesso que fiquei bem empolgado com esse\n",
    " conceito. Mas ele continua:\n",
    "\n",
    " \"Quando você declara variáveis num escopo, todos os escopos internos conseguem acessar esses valores,\n",
    " Independente da profundidade interna.\"\n",
    "\n",
    " ### Uma analogia horrível \n",
    "\n",
    "Voltando ao condominio, vamos dizer que cada cômodo seja uma função! Você está no primeiro andar. E deseja pegar uma ferramenta para concertar algo, primeiro você olha se tem essa ferramenta. Se não tiver, sobe ao segundo andar e pergunta a outra pessoa do cômodo superior se ela tem a ferramenta.... até encontra-lo e voltar para seu aposento. O **escope Chain** funciona parecido com isso. \n",
    "\n",
    " \n",
    "<p>\n",
    "    <img src=\"https://ibb.co/V0FzkF8X\" >\n",
    "</p>"
   ]
  },
  {
   "cell_type": "markdown",
   "id": "15aa2d6d",
   "metadata": {},
   "source": [
    "\"a forma forma mais certa de você visualizar isso é o escopo interno perguntando o seguinte: \n",
    "  - Ei! essa variável existe no meu escopo local? se sim, eu vou uso ela, se não eu vou procurar no escopo acima  até chega no escopo global\" - Filipe Deschamps\n"
   ]
  },
  {
   "cell_type": "code",
   "execution_count": null,
   "id": "31c0a3df",
   "metadata": {
    "vscode": {
     "languageId": "javascript"
    }
   },
   "outputs": [],
   "source": [
    "var name = \"escope global\" // name existe no escopo global\n",
    "\n",
    "function returnName() { // SCOPE CHAIN  ^\n",
    "    //                                  |\n",
    "    return name // função retorna variável nome. que não existe no escopo da função, mas existe no \n",
    "    //global, logo o retorno será\n",
    "}\n",
    "\n",
    "returnName()\n",
    "\n",
    "//output: escope global"
   ]
  },
  {
   "cell_type": "markdown",
   "id": "c4f04247",
   "metadata": {},
   "source": []
  }
 ],
 "metadata": {
  "language_info": {
   "name": "python"
  }
 },
 "nbformat": 4,
 "nbformat_minor": 5
}
