{
 "cells": [
  {
   "cell_type": "markdown",
   "id": "4d543425",
   "metadata": {},
   "source": [
    "# Sabe responder essas perguntas?\n",
    "\n",
    "## O que é escopo?\n",
    "\n",
    "-- Quando vi a primeira pergunta, achei bem fácil! Bom realmente não é algo\n",
    "dificil. Sofre bastante programando, a forma como responde foi algo do tipo: \"bloco de código, que define quais variáveis são visiveis ou não.\", não está errado, mas não é a melhor definição (eu acho!)\n",
    "\n"
   ]
  }
 ],
 "metadata": {
  "language_info": {
   "name": "python"
  }
 },
 "nbformat": 4,
 "nbformat_minor": 5
}
